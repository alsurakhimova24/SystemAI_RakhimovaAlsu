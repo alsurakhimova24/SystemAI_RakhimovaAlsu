{
 "cells": [
  {
   "cell_type": "markdown",
   "id": "ba4ddce2",
   "metadata": {},
   "source": [
    "# Практическая работа №1"
   ]
  },
  {
   "cell_type": "markdown",
   "id": "9030a732",
   "metadata": {},
   "source": [
    "## Тема: «Основные возможности языка Python»"
   ]
  },
  {
   "cell_type": "markdown",
   "id": "948781f5",
   "metadata": {},
   "source": [
    "### Выполнила студентка: Рахимова Алсу ПКТб-21-1"
   ]
  },
  {
   "cell_type": "markdown",
   "id": "dca9fc90",
   "metadata": {},
   "source": [
    "#### ВАРИАНТ: 16"
   ]
  },
  {
   "cell_type": "markdown",
   "id": "bbfff5d5",
   "metadata": {},
   "source": [
    "#### Задание 1. Расчеты арифметических выражений."
   ]
  },
  {
   "cell_type": "markdown",
   "id": "c6574172",
   "metadata": {},
   "source": [
    "УСЛОВИЕ: Написать программу на Python в Notebook Jupiter, которая запрашивает данные с клавиатуры и вычисляет арифметическое выражение. Произвести проверку выражения в Excel."
   ]
  },
  {
   "cell_type": "markdown",
   "id": "e956af33",
   "metadata": {},
   "source": [
    "$z=(\\frac{3\\frac{a}{y}}{\\frac{4a\\frac{a^2}{y}}{y}})-x+\\frac{\\frac{a^2}{y}+5y-3a}{x+9y}$"
   ]
  },
  {
   "cell_type": "code",
   "execution_count": 10,
   "id": "37ff91ce",
   "metadata": {},
   "outputs": [
    {
     "name": "stdout",
     "output_type": "stream",
     "text": [
      "Введите х: 1\n",
      "Введите y: 1\n",
      "Введите a: 1\n",
      "Ответ: z = 0.04999999999999999\n"
     ]
    }
   ],
   "source": [
    "x=int(input(\"Введите х: \"))\n",
    "y=int(input(\"Введите y: \"))\n",
    "a=int(input(\"Введите a: \"))\n",
    "z=((3*(a/y))/(4*a*(a**2/y))/y)-x+(((a**2/y)+5*y-3*a)/(x+9*y))\n",
    "print(\"Ответ: z =\",z)"
   ]
  },
  {
   "cell_type": "markdown",
   "id": "5989d604",
   "metadata": {},
   "source": [
    "#### Задание 2. Расчеты математических выражений."
   ]
  },
  {
   "cell_type": "markdown",
   "id": "6a0df4f3",
   "metadata": {},
   "source": [
    "УСЛОВИЕ: Написать программу на Python в Notebook Jupiter, которая запрашивает данные с клавиатуры и вычисляет математическое выражение. Произвести проверку выражения в Excel."
   ]
  },
  {
   "cell_type": "markdown",
   "id": "394da484",
   "metadata": {},
   "source": [
    "$z=\\frac{sinx^2-y}{y+1}-\\frac{xy-8}{34+cosx^2}$"
   ]
  },
  {
   "cell_type": "code",
   "execution_count": 6,
   "id": "c75142d6",
   "metadata": {},
   "outputs": [
    {
     "name": "stdout",
     "output_type": "stream",
     "text": [
      "Введите x: 2\n",
      "Введите y: 4\n",
      "Ответ: z = -0.6346356379136389\n"
     ]
    }
   ],
   "source": [
    "import math\n",
    "x=float(input(\"Введите x: \"))\n",
    "y=float(input(\"Введите y: \"))\n",
    "z=((math.sin(x)**2-y)/(y+1))-(x*y-8)/(34+math.cos(x)**2)\n",
    "print(\"Ответ: z =\",z)"
   ]
  },
  {
   "cell_type": "markdown",
   "id": "65aae335",
   "metadata": {},
   "source": [
    "#### Задание 3. Логические вычисления."
   ]
  },
  {
   "cell_type": "markdown",
   "id": "487d58aa",
   "metadata": {},
   "source": [
    "УСЛОВИЕ: Написать программу на Python в Notebook Jupiter, которая запрашивает целые значения с клавиатуры и вычисляет находится ли точка с координатами X,Y в заштрихованной области."
   ]
  },
  {
   "attachments": {
    "image.png": {
     "image/png": "[encoded data removed]"
    }
   },
   "cell_type": "markdown",
   "id": "ff8badab",
   "metadata": {},
   "source": [
    "![image.png](attachment:image.png)"
   ]
  },
  {
   "cell_type": "code",
   "execution_count": 5,
   "id": "059246da",
   "metadata": {},
   "outputs": [
    {
     "name": "stdout",
     "output_type": "stream",
     "text": [
      "Введите координату x: 7\n",
      "Введите координату y: 3\n",
      "Не находится в закрашенной области.\n"
     ]
    }
   ],
   "source": [
    "x=int(input(\"Введите координату x: \"))\n",
    "y=int(input(\"Введите координату y: \"))\n",
    "if y==2 and x>=10 and x<=13:\n",
    "    print(\"Находится в закрашенной области.\")\n",
    "elif y==3 and x>=3 and x<=5 or x>=10 and x<=13:\n",
    "    print(\"Находится в закрашенной области.\")\n",
    "elif y==4 and x>=2 and x<=5 or x>=10 and x<=12:\n",
    "    print(\"Находится в закрашенной области.\")\n",
    "elif y==5 and x>=2 and x<=12:\n",
    "    print(\"Находится в закрашенной области.\")\n",
    "elif y==6 and x>=3 and x<=8:\n",
    "    print(\"Находится в закрашенной области.\")\n",
    "elif y==7 and x>=3 and x<=8:\n",
    "    print(\"Находится в закрашенной области.\")\n",
    "elif y==8 and x>=6 and x<=9:\n",
    "    print(\"Находится в закрашенной области.\")\n",
    "elif y==9 and x>=6 and x<=9 or x==13:\n",
    "    print(\"Находится в закрашенной области.\")\n",
    "elif y==10 and x>=6 and x<=9 or x==13:\n",
    "    print(\"Находится в закрашенной области.\")\n",
    "elif y==11 and x>=3 and x<=13:\n",
    "    print(\"Находится в закрашенной области.\")\n",
    "elif y==12 and x>=7 and x<=10 or x==13:\n",
    "    print(\"Находится в закрашенной области.\")\n",
    "elif y==13 and x==13:\n",
    "    print(\"Находится в закрашенной области.\")\n",
    "else:\n",
    "    print(\"Не находится в закрашенной области.\")"
   ]
  },
  {
   "cell_type": "markdown",
   "id": "cc4881fb",
   "metadata": {},
   "source": [
    "#### Задание 4. Логические вычисления "
   ]
  },
  {
   "cell_type": "markdown",
   "id": "513cf8d7",
   "metadata": {},
   "source": [
    "УСЛОВИЕ: Написать программу на Python в Notebook Jupiter, которая запрашивает вещественные значения с клавиатуры и вычисляет находится ли точка с координатами X,Y в заштрихованной области ограниченная линиями по вариантам. "
   ]
  },
  {
   "attachments": {
    "image.png": {
     "image/png": "[encoded data removed]"
    }
   },
   "cell_type": "markdown",
   "id": "6fb91167",
   "metadata": {},
   "source": [
    "![image.png](attachment:image.png)"
   ]
  },
  {
   "cell_type": "code",
   "execution_count": 11,
   "id": "f55af07e",
   "metadata": {},
   "outputs": [
    {
     "name": "stdout",
     "output_type": "stream",
     "text": [
      "Введите координату x: 1\n",
      "Введите координату y: 1\n",
      "Не находится в закрашенной области.\n"
     ]
    }
   ],
   "source": [
    "x=float(input(\"Введите координату x: \"))\n",
    "y=float(input(\"Введите координату y: \"))\n",
    "if x**2+y**2>1 and x**2+y**2<2 and y>0:\n",
    "    print(\"Находится в закрашенной области.\")\n",
    "else:\n",
    "    print(\"Не находится в закрашенной области.\")    "
   ]
  },
  {
   "cell_type": "markdown",
   "id": "3ac34e09",
   "metadata": {},
   "source": [
    "#### Задание 5. Вычисление циклических процессов"
   ]
  },
  {
   "cell_type": "markdown",
   "id": "0741c98a",
   "metadata": {},
   "source": [
    "УСЛОВИЕ: Написать программу на Python в Notebook Jupiter, которая выводит таблицу значений функции (произвести табулирование) f(x) на заданном диапазоне X1, X2 и с заданным шагом S. Переменные X1, X2, S – вещественные. Произвести проверку деления на ноль. Произвести проверку выражения в Excel."
   ]
  },
  {
   "cell_type": "markdown",
   "id": "6a043e42",
   "metadata": {},
   "source": [
    "$f(x)=x+e^x+\\frac{sin(x)^5+x^3}{3^x}+\\frac{x^5}{5^x}$"
   ]
  },
  {
   "cell_type": "code",
   "execution_count": 2,
   "id": "dd9fd8de",
   "metadata": {},
   "outputs": [
    {
     "name": "stdout",
     "output_type": "stream",
     "text": [
      "Введите начало диапазона X1: 1\n",
      "Введите начало диапазона X2: 10\n",
      "Введите шаг S: 0.5\n",
      "*************************************\n",
      "РЕЗУЛЬТАТ: \n",
      "+----------------+\n",
      "|  X  |   f(x)   |\n",
      "+----------------+\n",
      "| 1.00|      4.39|\n",
      "| 1.50|      7.50|\n",
      "| 2.00|     11.63|\n",
      "| 2.50|     17.44|\n",
      "| 3.00|     26.03|\n",
      "| 3.50|     39.41|\n",
      "| 4.00|     61.02|\n",
      "| 4.50|     96.48|\n",
      "| 5.00|    154.92|\n",
      "| 5.50|    251.31|\n",
      "| 6.00|    410.22|\n",
      "| 6.50|    672.19|\n",
      "| 7.00|   1104.01|\n",
      "| 7.50|   1815.79|\n",
      "| 8.00|   2989.12|\n",
      "| 8.50|   4923.37|\n",
      "| 9.00|   8112.15|\n",
      "| 9.50|  13369.27|\n",
      "|10.00|  22036.49|\n",
      "+--------------------+\n",
      "*************************************\n"
     ]
    }
   ],
   "source": [
    "import math as m\n",
    "import matplotlib.pyplot as plt\n",
    "x=[]\n",
    "y=[]\n",
    "X1=int(input('Введите начало диапазона X1: '))\n",
    "X2=int(input('Введите начало диапазона X2: '))\n",
    "s=float(input('Введите шаг S: '))\n",
    "print('*************************************')\n",
    "print('РЕЗУЛЬТАТ: ')\n",
    "print('+----------------+')\n",
    "print('|  X  |   f(x)   |')\n",
    "print('+----------------+')\n",
    "import math\n",
    "while X1<=X2:\n",
    "    Y=X1+math.exp(X1)+((math.sin(X1)**5+X1**3)/3**X1)+(X1**5/5**X1)\n",
    "    y.append(Y)\n",
    "    x.append(X1)\n",
    "    print('|{:5.2f}|{:10.2f}|'.format(X1, Y))\n",
    "    X1=X1+s\n",
    "print('+--------------------+')\n",
    "print('*************************************')"
   ]
  },
  {
   "cell_type": "markdown",
   "id": "4c6f5f9f",
   "metadata": {},
   "source": [
    "#### Задание 6. Списки (одномерные массивы) в Python\n"
   ]
  },
  {
   "cell_type": "markdown",
   "id": "b4d8bcca",
   "metadata": {},
   "source": [
    "УСЛОВИЕ: Дан целочисленный одномерный массив на N элементов, заполненный случайными числами в заданном диапазоне (от n1 до n2) с чередованием нечетных и четных значений.\n",
    "Найти сумму четных элементов массива с номерами от K до L включительно.\n",
    "Произвести проверку на корректность ввода интервальных значений (n1<n2, K<L)."
   ]
  },
  {
   "cell_type": "code",
   "execution_count": 1,
   "id": "ee490c25",
   "metadata": {},
   "outputs": [
    {
     "name": "stdout",
     "output_type": "stream",
     "text": [
      "Введите размер массива: 15\n",
      "Введите начало диапазона: 2\n",
      "Введите конец диапазона: 4\n",
      "Введите K: 1\n",
      "Введите L: 6\n",
      "Сгенерированный массив:\n",
      "[3, 2, 2, 4, 3, 2, 3, 3, 4, 3, 4, 4, 3, 2, 2]\n",
      "Сумма четных элементов с номерами от 1 до 6 включительно: 10\n"
     ]
    }
   ],
   "source": [
    "import random\n",
    "n = int(input(\"Введите размер массива: \"))\n",
    "n1 = int(input(\"Введите начало диапазона: \"))\n",
    "n2 = int(input(\"Введите конец диапазона: \"))\n",
    "k = int(input(\"Введите K: \"))\n",
    "l = int(input(\"Введите L: \"))\n",
    "array = []\n",
    "odd = n1\n",
    "even = n1 + 1\n",
    "for i in range(n):\n",
    "    if i % 2 == 0:\n",
    "        if even <= n2:\n",
    "            array.append(even)\n",
    "            even += 2\n",
    "        else:\n",
    "            array.append(random.randint(n1, n2))\n",
    "    else:\n",
    "        if odd <= n2:\n",
    "            array.append(odd)\n",
    "            odd += 2\n",
    "        else:\n",
    "                array.append(random.randint(n1, n2))\n",
    "print(\"Сгенерированный массив:\")\n",
    "print(array)\n",
    "sum = 0\n",
    "for i in range(k, l+1):\n",
    "    if array[i] % 2 == 0:\n",
    "        sum += array[i]\n",
    "print(f\"Сумма четных элементов с номерами от {k} до {l} включительно: {sum}\")"
   ]
  },
  {
   "cell_type": "markdown",
   "id": "c17a3fc9",
   "metadata": {},
   "source": [
    "#### Задание 7. Двумерные массивы (матрицы) в Python "
   ]
  },
  {
   "cell_type": "markdown",
   "id": "3c100aa7",
   "metadata": {},
   "source": [
    "УСЛОВИЕ: Дан целочисленный двумерный массив N на M элементов, заполненный случайными числами в заданном диапазоне (от n1 до n2) с чередованием заданного числа X в строках. \n",
    "Найти сумму нечётных элементов массива с номерами от K до L включительно в заданном столбце С.\n",
    "Произвести проверку на корректность ввода интервальных значений (n1<n2, K<L)."
   ]
  },
  {
   "cell_type": "code",
   "execution_count": 37,
   "id": "3a3cf146",
   "metadata": {},
   "outputs": [
    {
     "name": "stdout",
     "output_type": "stream",
     "text": [
      "Введите количество строк N в массиве: 10\n",
      "Введите количество столбцов M в массиве: 10\n",
      "*************************************************************************\n",
      "Введите начало диапазона n1: -5\n",
      "Введите конец диапазона n2: 5\n",
      "Введите число для чередования X: 24\n",
      "*************************************************************************\n",
      "Сгенерированный массив:\n",
      "  24    3   24   -1   24    2   24   -3   24   -5 \n",
      "  24    1   24    5   24    2   24    5   24    3 \n",
      "  24    1   24    0   24    0   24   -2   24   -3 \n",
      "  24    0   24   -5   24   -2   24    5   24   -3 \n",
      "  24   -4   24   -3   24   -3   24    1   24   -3 \n",
      "  24   -5   24    1   24    3   24   -1   24   -3 \n",
      "  24   -1   24    2   24   -5   24    5   24    0 \n",
      "  24   -2   24   -2   24    5   24    0   24   -2 \n",
      "  24   -4   24    2   24   -2   24    0   24    0 \n",
      "  24    2   24    0   24    5   24    0   24   -4 \n",
      "*************************************************************************\n",
      "Введите начальный индекс K: 2\n",
      "Введите конечный индекс L: 6\n",
      "Введите столбец C\n",
      "2\n",
      "*************************************************************************\n",
      "Сумма нечетных элементов в столбце 2 с номерами от 2 до 6: 0\n"
     ]
    }
   ],
   "source": [
    "import random\n",
    "N = int(input(\"Введите количество строк N в массиве: \"))\n",
    "M = int(input(\"Введите количество столбцов M в массиве: \"))\n",
    "print(\"*************************************************************************\")\n",
    "n1 = int(input(\"Введите начало диапазона n1: \"))\n",
    "n2 = int(input(\"Введите конец диапазона n2: \"))\n",
    "while n2 <= n1:\n",
    "    print(\"Введите значение n2 больше, чем n1.\")\n",
    "    n2 = int(input(\"Введите значение n2 (n1 < n2): \"))\n",
    "X = int(input(\"Введите число для чередования X: \"))\n",
    "array = []\n",
    "for i in range(N):\n",
    "    row = []\n",
    "    for j in range(M):\n",
    "        if j % 2 == 0:\n",
    "            row.append(X)\n",
    "        else:\n",
    "            row.append(random.randint(n1, n2))\n",
    "    array.append(row)\n",
    "print(\"*************************************************************************\")\n",
    "print(\"Сгенерированный массив:\")\n",
    "for i in range(N):\n",
    "    for j in range(M):\n",
    "        print(\"%4d\" % array[i][j], end=\" \")\n",
    "    print()\n",
    "print(\"*************************************************************************\")\n",
    "k = int(input(\"Введите начальный индекс K: \"))\n",
    "l = int(input(\"Введите конечный индекс L: \"))\n",
    "while l <= k:\n",
    "    print(\"Введите значение L больше, чем K.\")\n",
    "    l = int(input(\"Введите конечный индекс L (L>K): \"))\n",
    "print(\"Введите столбец C\")\n",
    "C = int(input())\n",
    "while not(C >= 0 and C < M):\n",
    "    print(\"Введите значение C от 0 до M-1.\")\n",
    "    C = int(input(\"Введите столбец C: \"))\n",
    "print(\"*************************************************************************\")\n",
    "sum = 0\n",
    "for i in range(k, l+1):\n",
    "        if i < len(array) and C < len(array[i]):\n",
    "            if array[i][C] % 2 != 0:\n",
    "                sum += array[i][C]\n",
    "print(f\"Сумма нечетных элементов в столбце {C} с номерами от {k} до {l}: {sum}\")"
   ]
  }
 ],
 "metadata": {
  "kernelspec": {
   "display_name": "Python 3 (ipykernel)",
   "language": "python",
   "name": "python3"
  },
  "language_info": {
   "codemirror_mode": {
    "name": "ipython",
    "version": 3
   },
   "file_extension": ".py",
   "mimetype": "text/x-python",
   "name": "python",
   "nbconvert_exporter": "python",
   "pygments_lexer": "ipython3",
   "version": "3.11.5"
  }
 },
 "nbformat": 4,
 "nbformat_minor": 5
}
