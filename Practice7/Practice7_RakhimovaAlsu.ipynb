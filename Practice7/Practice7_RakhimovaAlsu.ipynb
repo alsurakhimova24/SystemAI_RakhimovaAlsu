{
 "cells": [
  {
   "cell_type": "code",
   "execution_count": 11,
   "id": "b2797260",
   "metadata": {},
   "outputs": [
    {
     "name": "stdout",
     "output_type": "stream",
     "text": [
      "Найдено новое лицо. Введите имя на английском или 'exit' для выхода: Alsu\n",
      "Найдено новое лицо. Введите имя на английском или 'exit' для выхода: Ri\n",
      "Найдено новое лицо. Введите имя на английском или 'exit' для выхода: Katya\n"
     ]
    }
   ],
   "source": [
    "import cv2\n",
    "import face_recognition\n",
    "import os\n",
    "\n",
    "# Инициализация классификатора для обнаружения лиц\n",
    "face_cascade_db = cv2.CascadeClassifier(cv2.data.haarcascades + \"haarcascade_frontalface_default.xml\")\n",
    "eye_cascade = cv2.CascadeClassifier(cv2.data.haarcascades + \"haarcascade_eye.xml\")\n",
    "\n",
    "# Путь к директории для хранения изображений лиц\n",
    "faces_dir = 'face_images'\n",
    "\n",
    "# Инициализация VideoCapture\n",
    "cap = cv2.VideoCapture(0)\n",
    "\n",
    "known_faces_encodings = []\n",
    "known_faces_names = []\n",
    "\n",
    "while True:\n",
    "    success, img = cap.read()\n",
    "    if not success:\n",
    "        break\n",
    "    \n",
    "    img_gray = cv2.cvtColor(img, cv2.COLOR_BGR2GRAY)\n",
    "    faces = face_cascade_db.detectMultiScale(img_gray)\n",
    "    \n",
    "    for (x, y, w, h) in faces:\n",
    "        face_img = img[y:y+h, x:x+w]\n",
    "        face_img_rgb = cv2.cvtColor(face_img, cv2.COLOR_BGR2RGB)\n",
    "        face_encodings = face_recognition.face_encodings(face_img_rgb)\n",
    "        \n",
    "        if len(face_encodings) > 0:\n",
    "            face_encoding = face_encodings[0]  # Получение кодировки текущего лица\n",
    "            matches = face_recognition.compare_faces(known_faces_encodings, face_encoding)\n",
    "            name = \"Unknown\"\n",
    "            \n",
    "            if True in matches:\n",
    "                first_match_index = matches.index(True)\n",
    "                name = known_faces_names[first_match_index]\n",
    "            else:\n",
    "                # Если лицо неизвестное, предлагаем пользователю ввести имя и сохранить его\n",
    "                name = input(\"Найдено новое лицо. Введите имя на английском или 'exit' для выхода: \")  # Получение ввода из консоли\n",
    "                if name.lower()!= 'exit':\n",
    "                    known_faces_names.append(name)\n",
    "                    # Использование cv2.imwrite для сохранения изображения\n",
    "                    cv2.imwrite(os.path.join(faces_dir, f\"{name}.jpg\"), face_img)\n",
    "                    known_faces_encodings.append(face_encoding)\n",
    "            \n",
    "            # Отображение имени над квадратом лица\n",
    "            cv2.putText(img, name, (x, y - 10), cv2.FONT_HERSHEY_SIMPLEX, 0.9, (36,255,12), 2)\n",
    "            # Отрисовка квадрата вокруг лица\n",
    "            cv2.rectangle(img, (x, y), (x+w, y+h), (0, 255, 0), 2)\n",
    "        \n",
    "            \n",
    "    cv2.imshow('Face Recognition', img)\n",
    "    if cv2.waitKey(1) & 0xFF == ord('q'):\n",
    "        break\n",
    "\n",
    "cap.release()\n",
    "cv2.destroyAllWindows()"
   ]
  },
  {
   "cell_type": "code",
   "execution_count": null,
   "id": "abcf2879",
   "metadata": {},
   "outputs": [],
   "source": []
  }
 ],
 "metadata": {
  "kernelspec": {
   "display_name": "Python 3 (ipykernel)",
   "language": "python",
   "name": "python3"
  },
  "language_info": {
   "codemirror_mode": {
    "name": "ipython",
    "version": 3
   },
   "file_extension": ".py",
   "mimetype": "text/x-python",
   "name": "python",
   "nbconvert_exporter": "python",
   "pygments_lexer": "ipython3",
   "version": "3.11.5"
  }
 },
 "nbformat": 4,
 "nbformat_minor": 5
}
